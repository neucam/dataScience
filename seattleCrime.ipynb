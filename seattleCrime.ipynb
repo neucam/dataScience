{
 "cells": [
  {
   "cell_type": "markdown",
   "metadata": {},
   "source": [
    "# Analysis of Crime Data for Seattle, WA"
   ]
  },
  {
   "cell_type": "markdown",
   "metadata": {},
   "source": [
    "## 03/06/2016"
   ]
  },
  {
   "cell_type": "markdown",
   "metadata": {
    "collapsed": true
   },
   "source": []
  },
  {
   "cell_type": "code",
   "execution_count": 1,
   "metadata": {
    "collapsed": true
   },
   "outputs": [],
   "source": [
    "from IPython.display import HTML"
   ]
  },
  {
   "cell_type": "markdown",
   "metadata": {},
   "source": [
    "We are interested in analyzing and understanding crime statistics for Seattle, Washington (summer 2014)\n",
    "urban core, as well as the relationship between violent and non-violent crimes by hour.  This analysis\n",
    "will demonstrate that crime varies signficantly by hour of the day, which is not necessarily interesting\n",
    "or unique.  However, what is (I believe) more interesting, is the relationship between violent and non-\n",
    "violent crime by hour of the day.  We will see that this fluctuates dramatically."
   ]
  },
  {
   "cell_type": "markdown",
   "metadata": {},
   "source": [
    "Seattle urban core is defined as : \n",
    "    Latitude filter ranges : 47.60 to 47.62\n",
    "    Longitude filter ranges : -122.36006 to -122.32240"
   ]
  },
  {
   "cell_type": "markdown",
   "metadata": {},
   "source": [
    "Violent crimes defined as : all crime codes associated with force or threat of force"
   ]
  },
  {
   "cell_type": "code",
   "execution_count": 12,
   "metadata": {
    "collapsed": false
   },
   "outputs": [
    {
     "data": {
      "text/html": [
       "<iframe src=./DowntownSeattleUrbanCore.png width=1024 height=700></iframe>"
      ],
      "text/plain": [
       "<IPython.core.display.HTML object>"
      ]
     },
     "execution_count": 12,
     "metadata": {},
     "output_type": "execute_result"
    }
   ],
   "source": [
    "HTML('<iframe src=./DowntownSeattleUrbanCore.png width=1024 height=700></iframe>')"
   ]
  },
  {
   "cell_type": "markdown",
   "metadata": {},
   "source": [
    "Now, lets take a look at a stacked bar chart for crime for Seattle Urban core, by hour of day, broken out\n",
    "by crime type : violent/non-violent"
   ]
  },
  {
   "cell_type": "code",
   "execution_count": 14,
   "metadata": {
    "collapsed": false
   },
   "outputs": [
    {
     "data": {
      "text/html": [
       "<iframe src=./CrimeByHour.png width=1024 height=800></iframe>"
      ],
      "text/plain": [
       "<IPython.core.display.HTML object>"
      ]
     },
     "execution_count": 14,
     "metadata": {},
     "output_type": "execute_result"
    }
   ],
   "source": [
    "HTML('<iframe src=./CrimeByHour.png width=1024 height=800></iframe>')"
   ]
  },
  {
   "cell_type": "markdown",
   "metadata": {},
   "source": [
    "It can be seen from the chart, that crime magnitude varies by time of day.  Urban core population ramps up during the day as non-urban core residents make their way into the urban core during working/shopping hours, and typically exit in the evening.  Non-violent crime appears to vary much more dramatically than violent crime, as a function of hour within the day.  We will explore this relationship further, with the next chart showing the ratio of violent to non-violent crime as a function of hour within the day."
   ]
  },
  {
   "cell_type": "code",
   "execution_count": 23,
   "metadata": {
    "collapsed": false
   },
   "outputs": [
    {
     "data": {
      "text/html": [
       "<iframe src=./CrimeRatioByHour.png width=1024 height=800></iframe>"
      ],
      "text/plain": [
       "<IPython.core.display.HTML object>"
      ]
     },
     "execution_count": 23,
     "metadata": {},
     "output_type": "execute_result"
    }
   ],
   "source": [
    "HTML('<iframe src=./CrimeRatioByHour.png width=1024 height=800></iframe>')"
   ]
  },
  {
   "cell_type": "markdown",
   "metadata": {},
   "source": [
    "It is quite apparent that the violent crime as a percentage of total crime goes up dramatically coincident\n",
    "with bar closing time (2:00 am).  Seattle city officials say this is due to rowdy drinkers being summarily\n",
    "emptied into the streets at the same time.  There have been proposals to address this, such as keeping bars\n",
    "open past 2:00 am."
   ]
  }
 ],
 "metadata": {
  "kernelspec": {
   "display_name": "Python 3",
   "language": "python",
   "name": "python3"
  },
  "language_info": {
   "codemirror_mode": {
    "name": "ipython",
    "version": 3
   },
   "file_extension": ".py",
   "mimetype": "text/x-python",
   "name": "python",
   "nbconvert_exporter": "python",
   "pygments_lexer": "ipython3",
   "version": "3.5.1"
  }
 },
 "nbformat": 4,
 "nbformat_minor": 0
}
